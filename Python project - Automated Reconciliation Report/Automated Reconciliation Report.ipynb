{
 "cells": [
  {
   "cell_type": "code",
   "execution_count": 1,
   "id": "1248e8d3-cedb-42e7-a47a-4b5e5bc98bc8",
   "metadata": {
    "execution": {
     "iopub.execute_input": "2024-11-20T14:51:26.045966Z",
     "iopub.status.busy": "2024-11-20T14:51:26.045821Z",
     "iopub.status.idle": "2024-11-20T14:51:26.868542Z",
     "shell.execute_reply": "2024-11-20T14:51:26.868280Z",
     "shell.execute_reply.started": "2024-11-20T14:51:26.045952Z"
    }
   },
   "outputs": [],
   "source": [
    "import pandas as pd\n",
    "import openpyxl\n",
    "from openpyxl import Workbook\n",
    "from openpyxl.utils.dataframe import dataframe_to_rows\n",
    "from openpyxl.styles import Alignment, PatternFill, Font\n",
    "from openpyxl.worksheet.dimensions import ColumnDimension\n",
    "from datetime import datetime, timedelta\n",
    "\n",
    "# Import csv\n",
    "df_bank = pd.read_csv('mock_bank_data_1-5Sep2024.csv')\n",
    "df_company = pd.read_csv('mock_company_data_1-5Sep2024.csv')"
   ]
  },
  {
   "cell_type": "code",
   "execution_count": 2,
   "id": "3149e984-3855-4276-9fed-6a609cd05b15",
   "metadata": {
    "execution": {
     "iopub.execute_input": "2024-11-20T14:51:26.868970Z",
     "iopub.status.busy": "2024-11-20T14:51:26.868897Z",
     "iopub.status.idle": "2024-11-20T14:51:26.870734Z",
     "shell.execute_reply": "2024-11-20T14:51:26.870492Z",
     "shell.execute_reply.started": "2024-11-20T14:51:26.868962Z"
    }
   },
   "outputs": [],
   "source": [
    "# Define start_date, end_date, month, and year\n",
    "start_date = 1\n",
    "end_date = 5\n",
    "month = 9 \n",
    "year = 2024"
   ]
  },
  {
   "cell_type": "code",
   "execution_count": 3,
   "id": "2b9ae046-1fe8-4873-85a8-335767e359f6",
   "metadata": {
    "execution": {
     "iopub.execute_input": "2024-11-20T14:51:26.871922Z",
     "iopub.status.busy": "2024-11-20T14:51:26.871853Z",
     "iopub.status.idle": "2024-11-20T14:51:26.885234Z",
     "shell.execute_reply": "2024-11-20T14:51:26.885016Z",
     "shell.execute_reply.started": "2024-11-20T14:51:26.871915Z"
    }
   },
   "outputs": [
    {
     "name": "stdout",
     "output_type": "stream",
     "text": [
      "<class 'pandas.core.frame.DataFrame'>\n",
      "RangeIndex: 99971 entries, 0 to 99970\n",
      "Data columns (total 4 columns):\n",
      " #   Column          Non-Null Count  Dtype \n",
      "---  ------          --------------  ----- \n",
      " 0   transaction_id  99971 non-null  object\n",
      " 1   datetime        99971 non-null  object\n",
      " 2   amount          99971 non-null  int64 \n",
      " 3   ref_code        99971 non-null  object\n",
      "dtypes: int64(1), object(3)\n",
      "memory usage: 3.1+ MB\n"
     ]
    },
    {
     "data": {
      "text/html": [
       "<div>\n",
       "<style scoped>\n",
       "    .dataframe tbody tr th:only-of-type {\n",
       "        vertical-align: middle;\n",
       "    }\n",
       "\n",
       "    .dataframe tbody tr th {\n",
       "        vertical-align: top;\n",
       "    }\n",
       "\n",
       "    .dataframe thead th {\n",
       "        text-align: right;\n",
       "    }\n",
       "</style>\n",
       "<table border=\"1\" class=\"dataframe\">\n",
       "  <thead>\n",
       "    <tr style=\"text-align: right;\">\n",
       "      <th></th>\n",
       "      <th>transaction_id</th>\n",
       "      <th>datetime</th>\n",
       "      <th>amount</th>\n",
       "      <th>ref_code</th>\n",
       "    </tr>\n",
       "  </thead>\n",
       "  <tbody>\n",
       "    <tr>\n",
       "      <th>0</th>\n",
       "      <td>LW24090200001</td>\n",
       "      <td>2/9/2024 13:02</td>\n",
       "      <td>458</td>\n",
       "      <td>Z008</td>\n",
       "    </tr>\n",
       "    <tr>\n",
       "      <th>1</th>\n",
       "      <td>LW24090500002</td>\n",
       "      <td>5/9/2024 18:57</td>\n",
       "      <td>478</td>\n",
       "      <td>Z001</td>\n",
       "    </tr>\n",
       "    <tr>\n",
       "      <th>2</th>\n",
       "      <td>LW24090200003</td>\n",
       "      <td>2/9/2024 13:02</td>\n",
       "      <td>263</td>\n",
       "      <td>Z007</td>\n",
       "    </tr>\n",
       "    <tr>\n",
       "      <th>3</th>\n",
       "      <td>LW24090300004</td>\n",
       "      <td>3/9/2024 16:31</td>\n",
       "      <td>332</td>\n",
       "      <td>Z007</td>\n",
       "    </tr>\n",
       "    <tr>\n",
       "      <th>4</th>\n",
       "      <td>LW24090200005</td>\n",
       "      <td>2/9/2024 13:02</td>\n",
       "      <td>289</td>\n",
       "      <td>Z003</td>\n",
       "    </tr>\n",
       "  </tbody>\n",
       "</table>\n",
       "</div>"
      ],
      "text/plain": [
       "  transaction_id        datetime  amount ref_code\n",
       "0  LW24090200001  2/9/2024 13:02     458     Z008\n",
       "1  LW24090500002  5/9/2024 18:57     478     Z001\n",
       "2  LW24090200003  2/9/2024 13:02     263     Z007\n",
       "3  LW24090300004  3/9/2024 16:31     332     Z007\n",
       "4  LW24090200005  2/9/2024 13:02     289     Z003"
      ]
     },
     "execution_count": 3,
     "metadata": {},
     "output_type": "execute_result"
    }
   ],
   "source": [
    "# Check data info\n",
    "df_bank.info()\n",
    "df_bank.head()"
   ]
  },
  {
   "cell_type": "code",
   "execution_count": 4,
   "id": "1fcefda8-7f4d-4d89-86b5-b267592a60af",
   "metadata": {
    "execution": {
     "iopub.execute_input": "2024-11-20T14:51:26.886544Z",
     "iopub.status.busy": "2024-11-20T14:51:26.886459Z",
     "iopub.status.idle": "2024-11-20T14:51:26.896096Z",
     "shell.execute_reply": "2024-11-20T14:51:26.895822Z",
     "shell.execute_reply.started": "2024-11-20T14:51:26.886535Z"
    }
   },
   "outputs": [
    {
     "name": "stdout",
     "output_type": "stream",
     "text": [
      "<class 'pandas.core.frame.DataFrame'>\n",
      "RangeIndex: 99984 entries, 0 to 99983\n",
      "Data columns (total 3 columns):\n",
      " #   Column          Non-Null Count  Dtype \n",
      "---  ------          --------------  ----- \n",
      " 0   transaction_id  99984 non-null  object\n",
      " 1   datetime        99984 non-null  object\n",
      " 2   amount          99984 non-null  int64 \n",
      "dtypes: int64(1), object(2)\n",
      "memory usage: 2.3+ MB\n"
     ]
    },
    {
     "data": {
      "text/html": [
       "<div>\n",
       "<style scoped>\n",
       "    .dataframe tbody tr th:only-of-type {\n",
       "        vertical-align: middle;\n",
       "    }\n",
       "\n",
       "    .dataframe tbody tr th {\n",
       "        vertical-align: top;\n",
       "    }\n",
       "\n",
       "    .dataframe thead th {\n",
       "        text-align: right;\n",
       "    }\n",
       "</style>\n",
       "<table border=\"1\" class=\"dataframe\">\n",
       "  <thead>\n",
       "    <tr style=\"text-align: right;\">\n",
       "      <th></th>\n",
       "      <th>transaction_id</th>\n",
       "      <th>datetime</th>\n",
       "      <th>amount</th>\n",
       "    </tr>\n",
       "  </thead>\n",
       "  <tbody>\n",
       "    <tr>\n",
       "      <th>0</th>\n",
       "      <td>LW24090200001</td>\n",
       "      <td>2/9/2024 13:02</td>\n",
       "      <td>458</td>\n",
       "    </tr>\n",
       "    <tr>\n",
       "      <th>1</th>\n",
       "      <td>LW24090500002</td>\n",
       "      <td>5/9/2024 18:57</td>\n",
       "      <td>478</td>\n",
       "    </tr>\n",
       "    <tr>\n",
       "      <th>2</th>\n",
       "      <td>LW24090200003</td>\n",
       "      <td>2/9/2024 13:02</td>\n",
       "      <td>263</td>\n",
       "    </tr>\n",
       "    <tr>\n",
       "      <th>3</th>\n",
       "      <td>LW24090300004</td>\n",
       "      <td>3/9/2024 16:31</td>\n",
       "      <td>332</td>\n",
       "    </tr>\n",
       "    <tr>\n",
       "      <th>4</th>\n",
       "      <td>LW24090200005</td>\n",
       "      <td>2/9/2024 13:02</td>\n",
       "      <td>289</td>\n",
       "    </tr>\n",
       "  </tbody>\n",
       "</table>\n",
       "</div>"
      ],
      "text/plain": [
       "  transaction_id        datetime  amount\n",
       "0  LW24090200001  2/9/2024 13:02     458\n",
       "1  LW24090500002  5/9/2024 18:57     478\n",
       "2  LW24090200003  2/9/2024 13:02     263\n",
       "3  LW24090300004  3/9/2024 16:31     332\n",
       "4  LW24090200005  2/9/2024 13:02     289"
      ]
     },
     "execution_count": 4,
     "metadata": {},
     "output_type": "execute_result"
    }
   ],
   "source": [
    "# Check data info\n",
    "df_company.info()\n",
    "df_company.head()"
   ]
  },
  {
   "cell_type": "code",
   "execution_count": 5,
   "id": "6ed76d35-c096-4cfa-9442-e1dd93151b5c",
   "metadata": {
    "execution": {
     "iopub.execute_input": "2024-11-20T14:51:26.897088Z",
     "iopub.status.busy": "2024-11-20T14:51:26.896594Z",
     "iopub.status.idle": "2024-11-20T14:51:26.995384Z",
     "shell.execute_reply": "2024-11-20T14:51:26.995129Z",
     "shell.execute_reply.started": "2024-11-20T14:51:26.897075Z"
    }
   },
   "outputs": [],
   "source": [
    "# Change datatype\n",
    "df_bank['datetime'] = pd.to_datetime(df_bank['datetime'], format='%d/%m/%Y %H:%M')\n",
    "df_company['datetime'] = pd.to_datetime(df_company['datetime'], format='%d/%m/%Y %H:%M')\n",
    "\n",
    "# Sort data by datetime\n",
    "df_bank = df_bank.sort_values(by='datetime')\n",
    "df_company = df_company.sort_values(by='datetime')\n",
    "\n",
    "# Add a helper column to keep only 'date' value\n",
    "df_bank['date_formatted'] = df_bank['datetime'].dt.strftime('%Y-%m-%d')\n",
    "df_company['date_formatted'] = df_bank['datetime'].dt.strftime('%Y-%m-%d')"
   ]
  },
  {
   "cell_type": "code",
   "execution_count": 6,
   "id": "69db6bd4-8c90-435c-ae96-9abfde609d4a",
   "metadata": {
    "execution": {
     "iopub.execute_input": "2024-11-20T14:51:26.995806Z",
     "iopub.status.busy": "2024-11-20T14:51:26.995733Z",
     "iopub.status.idle": "2024-11-20T14:51:35.083360Z",
     "shell.execute_reply": "2024-11-20T14:51:35.083029Z",
     "shell.execute_reply.started": "2024-11-20T14:51:26.995798Z"
    }
   },
   "outputs": [
    {
     "name": "stdout",
     "output_type": "stream",
     "text": [
      "Reconciliation report has been created successfully as Reconciliation_report_1-5_Sep_2024.xlsx.\n"
     ]
    }
   ],
   "source": [
    "# Create a workbook and add sheets\n",
    "wb = Workbook()\n",
    "\n",
    "# 1. Summary Sheet\n",
    "ws_summary = wb.active\n",
    "ws_summary.title = \"Summary\"\n",
    "\n",
    "# Add \"Total\" in C2 & Apply formatting\n",
    "ws_summary[\"C2\"] = \"Total\"\n",
    "ws_summary[\"C2\"].fill = PatternFill(start_color=\"FFFF99\", end_color=\"FFFF99\", fill_type=\"solid\")\n",
    "ws_summary[\"C2\"].font = Font(bold=True)\n",
    "ws_summary[\"C2\"].alignment = Alignment(horizontal=\"center\") \n",
    "\n",
    "# Add dates in D2 onward & Apply formatting\n",
    "start_date_obj = datetime(year, month, start_date)\n",
    "for i in range(end_date - start_date + 1):\n",
    "    date = start_date_obj + timedelta(days=i)\n",
    "    cell = ws_summary.cell(row=2, column=4 + i)\n",
    "    cell.value = date.strftime('%Y-%m-%d')\n",
    "    cell.font = Font(bold=True)\n",
    "    cell.alignment = Alignment(horizontal=\"center\")\n",
    "\n",
    "# Add \"Company\" and \"Bank\" labels in B3 and B4 & Apply formatting\n",
    "data = [(\"B3\", \"Company Amount\"), (\"B4\", \"Bank Amount\")]\n",
    "for cell, value in data:\n",
    "    ws_summary[cell] = value\n",
    "    ws_summary[cell].font = Font(bold=True)\n",
    "\n",
    "# Add SUMIF formulas in D3 and D4 onward\n",
    "last_column = 4 + (end_date - start_date) \n",
    "for col in range(4, last_column + 1):  \n",
    "    col_letter = ws_summary.cell(row=2, column=col).column_letter\n",
    "    ws_summary.cell(row=3, column=col).value = f\"=SUMIF('Company Data'!D:D, {col_letter}2, 'Company Data'!C:C)\"\n",
    "    ws_summary.cell(row=4, column=col).value = f\"=SUMIF('Bank Data'!E:E, {col_letter}2, 'Bank Data'!C:C)\"\n",
    "\n",
    "# Add total formulas in C3 and C4\n",
    "last_col_letter = ws_summary.cell(row=2, column=last_column).column_letter\n",
    "data = [(\"C3\", f\"=SUM(D3:{last_col_letter}3)\"), (\"C4\", f\"=SUM(D4:{last_col_letter}4)\")]\n",
    "\n",
    "for cell, value in data:\n",
    "    ws_summary[cell] = value\n",
    "    ws_summary[cell].font = Font(bold=True)\n",
    "    ws_summary[cell].alignment = Alignment(horizontal=\"center\")\n",
    "\n",
    "# Apply number formatting in Summary Sheet\n",
    "for col in range(3, last_column + 1):\n",
    "    ws_summary.cell(row=3, column=col).number_format = '#,##0.00'\n",
    "    ws_summary.cell(row=4, column=col).number_format = '#,##0.00'\n",
    "\n",
    "# 2. Company Data Sheet\n",
    "ws_company = wb.create_sheet(title=\"Company Data\")\n",
    "\n",
    "# Add data from the DataFrame & Apply formatting for the amount column\n",
    "for r_idx, row in enumerate(dataframe_to_rows(df_company, index=False, header=True), start=1):\n",
    "    for c_idx, value in enumerate(row, start=1):\n",
    "        cell = ws_company.cell(row=r_idx, column=c_idx, value=value)\n",
    "        if isinstance(value, (int, float)): \n",
    "            cell.number_format = '#,##0.00'\n",
    "\n",
    "# 3. Bank Data Sheet\n",
    "ws_bank = wb.create_sheet(title=\"Bank Data\")\n",
    "\n",
    "# Add data from the DataFrame & Apply formatting for the amount column\n",
    "for r_idx, row in enumerate(dataframe_to_rows(df_bank, index=False, header=True), start=1):\n",
    "    for c_idx, value in enumerate(row, start=1):\n",
    "        cell = ws_bank.cell(row=r_idx, column=c_idx, value=value)\n",
    "        if isinstance(value, (int, float)): \n",
    "            cell.number_format = '#,##0.00'\n",
    "\n",
    "# Adjust Column Width of Summary Sheet\n",
    "for idx, column_cells in enumerate(ws_summary.columns, 1):\n",
    "    if idx > 1:  # Skip column A (index 1)\n",
    "        ws_summary.column_dimensions[column_cells[0].column_letter].width = 15\n",
    "\n",
    "# Adjust Column Width of Company Sheet & Bank Sheet\n",
    "for ws in [ws_company, ws_bank]:\n",
    "    for column_cells in ws.columns:\n",
    "        # Find the maximum length of the content in each column\n",
    "        max_length = max(len(str(cell.value)) for cell in column_cells if cell.value is not None)\n",
    "        \n",
    "        # Adjust the width, adding a small buffer for padding\n",
    "        adjusted_width = max_length + 2  # You can tweak this value for more padding\n",
    "        \n",
    "        # Set the column width using the column letter of the first cell in the column\n",
    "        ws.column_dimensions[column_cells[0].column_letter].width = adjusted_width\n",
    "\n",
    "# Generate filename based on the date, month, year variables\n",
    "month_abbr = datetime(year, month, 1).strftime('%b')\n",
    "filename = f\"Reconciliation_report_{start_date}-{end_date}_{month_abbr}_{year}.xlsx\"\n",
    "\n",
    "# Save the workbook\n",
    "wb.save(filename)\n",
    "\n",
    "print(f\"Reconciliation report has been created successfully as {filename}.\")"
   ]
  }
 ],
 "metadata": {
  "kernelspec": {
   "display_name": "Python 3 (ipykernel)",
   "language": "python",
   "name": "python3"
  },
  "language_info": {
   "codemirror_mode": {
    "name": "ipython",
    "version": 3
   },
   "file_extension": ".py",
   "mimetype": "text/x-python",
   "name": "python",
   "nbconvert_exporter": "python",
   "pygments_lexer": "ipython3",
   "version": "3.12.4"
  }
 },
 "nbformat": 4,
 "nbformat_minor": 5
}
